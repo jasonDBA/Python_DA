{
 "cells": [
  {
   "cell_type": "markdown",
   "metadata": {},
   "source": [
    "### Import libraries"
   ]
  },
  {
   "cell_type": "code",
   "execution_count": 1,
   "metadata": {},
   "outputs": [],
   "source": [
    "import pandas as pd\n",
    "import numpy as np\n",
    "import requests\n",
    "from bs4 import BeautifulSoup"
   ]
  },
  {
   "cell_type": "code",
   "execution_count": 2,
   "metadata": {},
   "outputs": [],
   "source": [
    "# Load data from wiki url\n",
    "url = 'https://en.wikipedia.org/wiki/List_of_postal_codes_of_Canada:_M'\n",
    "source = requests.get(url).text\n",
    "data = BeautifulSoup(source, 'lxml')"
   ]
  },
  {
   "cell_type": "code",
   "execution_count": 3,
   "metadata": {},
   "outputs": [],
   "source": [
    "# Create DataFrame\n",
    "cols = ['Postalcode', 'Borough', 'Neighbourhood']\n",
    "toronto_df = pd.DataFrame(columns = cols)"
   ]
  },
  {
   "cell_type": "code",
   "execution_count": 4,
   "metadata": {},
   "outputs": [
    {
     "data": {
      "text/html": [
       "<div>\n",
       "<style scoped>\n",
       "    .dataframe tbody tr th:only-of-type {\n",
       "        vertical-align: middle;\n",
       "    }\n",
       "\n",
       "    .dataframe tbody tr th {\n",
       "        vertical-align: top;\n",
       "    }\n",
       "\n",
       "    .dataframe thead th {\n",
       "        text-align: right;\n",
       "    }\n",
       "</style>\n",
       "<table border=\"1\" class=\"dataframe\">\n",
       "  <thead>\n",
       "    <tr style=\"text-align: right;\">\n",
       "      <th></th>\n",
       "      <th>Postalcode</th>\n",
       "      <th>Borough</th>\n",
       "      <th>Neighbourhood</th>\n",
       "    </tr>\n",
       "  </thead>\n",
       "  <tbody>\n",
       "    <tr>\n",
       "      <td>0</td>\n",
       "      <td>0</td>\n",
       "      <td>0</td>\n",
       "      <td>0</td>\n",
       "    </tr>\n",
       "    <tr>\n",
       "      <td>1</td>\n",
       "      <td>M1A</td>\n",
       "      <td>Not assigned</td>\n",
       "      <td>Not assigned</td>\n",
       "    </tr>\n",
       "    <tr>\n",
       "      <td>2</td>\n",
       "      <td>M2A</td>\n",
       "      <td>Not assigned</td>\n",
       "      <td>Not assigned</td>\n",
       "    </tr>\n",
       "    <tr>\n",
       "      <td>3</td>\n",
       "      <td>M3A</td>\n",
       "      <td>North York</td>\n",
       "      <td>Parkwoods</td>\n",
       "    </tr>\n",
       "    <tr>\n",
       "      <td>4</td>\n",
       "      <td>M4A</td>\n",
       "      <td>North York</td>\n",
       "      <td>Victoria Village</td>\n",
       "    </tr>\n",
       "  </tbody>\n",
       "</table>\n",
       "</div>"
      ],
      "text/plain": [
       "  Postalcode       Borough     Neighbourhood\n",
       "0          0             0                 0\n",
       "1        M1A  Not assigned      Not assigned\n",
       "2        M2A  Not assigned      Not assigned\n",
       "3        M3A    North York         Parkwoods\n",
       "4        M4A    North York  Victoria Village"
      ]
     },
     "execution_count": 4,
     "metadata": {},
     "output_type": "execute_result"
    }
   ],
   "source": [
    "# For loop to find content in the columns\n",
    "content = data.find('div', class_='mw-parser-output')\n",
    "table = content.table.tbody\n",
    "\n",
    "postalcode = 0\n",
    "borough = 0\n",
    "neighbourhood = 0\n",
    "\n",
    "for tr in table.find_all('tr'):\n",
    "    i = 0\n",
    "    for td in tr.find_all('td'):\n",
    "        if i == 0:\n",
    "            postalcode = td.text\n",
    "            i += 1\n",
    "        elif i == 1:\n",
    "            borough = td.text\n",
    "            i += 1\n",
    "        elif i == 2:\n",
    "            neighbourhood = td.text.strip('\\n').replace(']', '')\n",
    "    toronto_df = toronto_df.append({'Postalcode': postalcode, 'Borough': borough, 'Neighbourhood': neighbourhood}, ignore_index=True)\n",
    "\n",
    "toronto_df.head()"
   ]
  },
  {
   "cell_type": "code",
   "execution_count": 5,
   "metadata": {},
   "outputs": [
    {
     "data": {
      "text/html": [
       "<div>\n",
       "<style scoped>\n",
       "    .dataframe tbody tr th:only-of-type {\n",
       "        vertical-align: middle;\n",
       "    }\n",
       "\n",
       "    .dataframe tbody tr th {\n",
       "        vertical-align: top;\n",
       "    }\n",
       "\n",
       "    .dataframe thead th {\n",
       "        text-align: right;\n",
       "    }\n",
       "</style>\n",
       "<table border=\"1\" class=\"dataframe\">\n",
       "  <thead>\n",
       "    <tr style=\"text-align: right;\">\n",
       "      <th></th>\n",
       "      <th>Postalcode</th>\n",
       "      <th>Borough</th>\n",
       "      <th>Neighbourhood</th>\n",
       "    </tr>\n",
       "  </thead>\n",
       "  <tbody>\n",
       "    <tr>\n",
       "      <td>0</td>\n",
       "      <td>M1B</td>\n",
       "      <td>Scarborough</td>\n",
       "      <td>Rouge, Malvern</td>\n",
       "    </tr>\n",
       "    <tr>\n",
       "      <td>1</td>\n",
       "      <td>M1C</td>\n",
       "      <td>Scarborough</td>\n",
       "      <td>Highland Creek, Rouge Hill, Port Union</td>\n",
       "    </tr>\n",
       "    <tr>\n",
       "      <td>2</td>\n",
       "      <td>M1E</td>\n",
       "      <td>Scarborough</td>\n",
       "      <td>Guildwood, Morningside, West Hill</td>\n",
       "    </tr>\n",
       "    <tr>\n",
       "      <td>3</td>\n",
       "      <td>M1G</td>\n",
       "      <td>Scarborough</td>\n",
       "      <td>Woburn</td>\n",
       "    </tr>\n",
       "    <tr>\n",
       "      <td>4</td>\n",
       "      <td>M1H</td>\n",
       "      <td>Scarborough</td>\n",
       "      <td>Cedarbrae</td>\n",
       "    </tr>\n",
       "  </tbody>\n",
       "</table>\n",
       "</div>"
      ],
      "text/plain": [
       "  Postalcode      Borough                           Neighbourhood\n",
       "0        M1B  Scarborough                          Rouge, Malvern\n",
       "1        M1C  Scarborough  Highland Creek, Rouge Hill, Port Union\n",
       "2        M1E  Scarborough       Guildwood, Morningside, West Hill\n",
       "3        M1G  Scarborough                                  Woburn\n",
       "4        M1H  Scarborough                               Cedarbrae"
      ]
     },
     "execution_count": 5,
     "metadata": {},
     "output_type": "execute_result"
    }
   ],
   "source": [
    "# DataFrame Cleaning\n",
    "toronto_df = toronto_df[toronto_df.Borough != 'Not assigned']\n",
    "toronto_df = toronto_df[toronto_df.Borough != 0]\n",
    "\n",
    "toronto_df.reset_index(drop=True, inplace=True)\n",
    "\n",
    "# If Neighbourhood content is 'Not assigned' means it is same as the content in Borough\n",
    "i = 0\n",
    "for i in range(0, toronto_df.shape[0]):\n",
    "    if toronto_df.iloc[i][2] == 'Not assigned':\n",
    "        toronto_df.iloc[i][2] = toronto_df.iloc[i][1]\n",
    "        i += 1\n",
    "\n",
    "df = toronto_df.groupby(['Postalcode', 'Borough'])['Neighbourhood'].apply(', '.join).reset_index()\n",
    "df.head()"
   ]
  },
  {
   "cell_type": "code",
   "execution_count": 6,
   "metadata": {},
   "outputs": [
    {
     "data": {
      "text/html": [
       "<div>\n",
       "<style scoped>\n",
       "    .dataframe tbody tr th:only-of-type {\n",
       "        vertical-align: middle;\n",
       "    }\n",
       "\n",
       "    .dataframe tbody tr th {\n",
       "        vertical-align: top;\n",
       "    }\n",
       "\n",
       "    .dataframe thead th {\n",
       "        text-align: right;\n",
       "    }\n",
       "</style>\n",
       "<table border=\"1\" class=\"dataframe\">\n",
       "  <thead>\n",
       "    <tr style=\"text-align: right;\">\n",
       "      <th></th>\n",
       "      <th>Postalcode</th>\n",
       "      <th>Borough</th>\n",
       "      <th>Neighbourhood</th>\n",
       "    </tr>\n",
       "  </thead>\n",
       "  <tbody>\n",
       "    <tr>\n",
       "      <td>0</td>\n",
       "      <td>M1B</td>\n",
       "      <td>Scarborough</td>\n",
       "      <td>Rouge, Malvern</td>\n",
       "    </tr>\n",
       "    <tr>\n",
       "      <td>1</td>\n",
       "      <td>M1C</td>\n",
       "      <td>Scarborough</td>\n",
       "      <td>Highland Creek, Rouge Hill, Port Union</td>\n",
       "    </tr>\n",
       "    <tr>\n",
       "      <td>2</td>\n",
       "      <td>M1E</td>\n",
       "      <td>Scarborough</td>\n",
       "      <td>Guildwood, Morningside, West Hill</td>\n",
       "    </tr>\n",
       "    <tr>\n",
       "      <td>3</td>\n",
       "      <td>M1G</td>\n",
       "      <td>Scarborough</td>\n",
       "      <td>Woburn</td>\n",
       "    </tr>\n",
       "    <tr>\n",
       "      <td>4</td>\n",
       "      <td>M1H</td>\n",
       "      <td>Scarborough</td>\n",
       "      <td>Cedarbrae</td>\n",
       "    </tr>\n",
       "  </tbody>\n",
       "</table>\n",
       "</div>"
      ],
      "text/plain": [
       "  Postalcode      Borough                           Neighbourhood\n",
       "0        M1B  Scarborough                          Rouge, Malvern\n",
       "1        M1C  Scarborough  Highland Creek, Rouge Hill, Port Union\n",
       "2        M1E  Scarborough       Guildwood, Morningside, West Hill\n",
       "3        M1G  Scarborough                                  Woburn\n",
       "4        M1H  Scarborough                               Cedarbrae"
      ]
     },
     "execution_count": 6,
     "metadata": {},
     "output_type": "execute_result"
    }
   ],
   "source": [
    "# Drop None value and replace 'Not assigned' with 'NaN'\n",
    "df = df.dropna()\n",
    "df = df[(df.Postalcode != 'Not assigned') & (df.Borough != 'Not assigned') & (df.Neighbourhood != 'Not assigned')]\n",
    "\n",
    "df.head()"
   ]
  },
  {
   "cell_type": "code",
   "execution_count": 7,
   "metadata": {},
   "outputs": [
    {
     "data": {
      "text/html": [
       "<div>\n",
       "<style scoped>\n",
       "    .dataframe tbody tr th:only-of-type {\n",
       "        vertical-align: middle;\n",
       "    }\n",
       "\n",
       "    .dataframe tbody tr th {\n",
       "        vertical-align: top;\n",
       "    }\n",
       "\n",
       "    .dataframe thead th {\n",
       "        text-align: right;\n",
       "    }\n",
       "</style>\n",
       "<table border=\"1\" class=\"dataframe\">\n",
       "  <thead>\n",
       "    <tr style=\"text-align: right;\">\n",
       "      <th></th>\n",
       "      <th>Postalcode</th>\n",
       "      <th>Borough</th>\n",
       "      <th>Neighbourhood</th>\n",
       "    </tr>\n",
       "  </thead>\n",
       "  <tbody>\n",
       "    <tr>\n",
       "      <td>0</td>\n",
       "      <td>M1B</td>\n",
       "      <td>Scarborough</td>\n",
       "      <td>Rouge, Malvern</td>\n",
       "    </tr>\n",
       "    <tr>\n",
       "      <td>1</td>\n",
       "      <td>M1C</td>\n",
       "      <td>Scarborough</td>\n",
       "      <td>Highland Creek, Rouge Hill, Port Union</td>\n",
       "    </tr>\n",
       "    <tr>\n",
       "      <td>2</td>\n",
       "      <td>M1E</td>\n",
       "      <td>Scarborough</td>\n",
       "      <td>Guildwood, Morningside, West Hill</td>\n",
       "    </tr>\n",
       "    <tr>\n",
       "      <td>3</td>\n",
       "      <td>M1G</td>\n",
       "      <td>Scarborough</td>\n",
       "      <td>Woburn</td>\n",
       "    </tr>\n",
       "    <tr>\n",
       "      <td>4</td>\n",
       "      <td>M1H</td>\n",
       "      <td>Scarborough</td>\n",
       "      <td>Cedarbrae</td>\n",
       "    </tr>\n",
       "  </tbody>\n",
       "</table>\n",
       "</div>"
      ],
      "text/plain": [
       "  Postalcode      Borough                           Neighbourhood\n",
       "0        M1B  Scarborough                          Rouge, Malvern\n",
       "1        M1C  Scarborough  Highland Creek, Rouge Hill, Port Union\n",
       "2        M1E  Scarborough       Guildwood, Morningside, West Hill\n",
       "3        M1G  Scarborough                                  Woburn\n",
       "4        M1H  Scarborough                               Cedarbrae"
      ]
     },
     "execution_count": 7,
     "metadata": {},
     "output_type": "execute_result"
    }
   ],
   "source": [
    "def neighbourhood_list(groupedDataframe):\n",
    "    return ', '.join(sorted(groupedDataframe['Neighbourhood'].tolist()))\n",
    "\n",
    "grouped_df = df.groupby(['Postalcode', 'Borough'])\n",
    "new_df = grouped_df.apply(neighbourhood_list).reset_index(name='Neighbourhood')\n",
    "\n",
    "new_df.head()"
   ]
  },
  {
   "cell_type": "markdown",
   "metadata": {},
   "source": [
    "### Install / Import Geocoder"
   ]
  },
  {
   "cell_type": "code",
   "execution_count": 8,
   "metadata": {},
   "outputs": [
    {
     "name": "stdout",
     "output_type": "stream",
     "text": [
      "Requirement already satisfied: geocoder in c:\\users\\jabin choi\\appdata\\local\\continuum\\anaconda3\\lib\\site-packages (1.38.1)\n",
      "Requirement already satisfied: six in c:\\users\\jabin choi\\appdata\\local\\continuum\\anaconda3\\lib\\site-packages (from geocoder) (1.12.0)\n",
      "Requirement already satisfied: requests in c:\\users\\jabin choi\\appdata\\local\\continuum\\anaconda3\\lib\\site-packages (from geocoder) (2.22.0)\n",
      "Requirement already satisfied: future in c:\\users\\jabin choi\\appdata\\local\\continuum\\anaconda3\\lib\\site-packages (from geocoder) (0.17.1)\n",
      "Requirement already satisfied: click in c:\\users\\jabin choi\\appdata\\local\\continuum\\anaconda3\\lib\\site-packages (from geocoder) (7.0)\n",
      "Requirement already satisfied: ratelim in c:\\users\\jabin choi\\appdata\\local\\continuum\\anaconda3\\lib\\site-packages (from geocoder) (0.1.6)\n",
      "Requirement already satisfied: urllib3!=1.25.0,!=1.25.1,<1.26,>=1.21.1 in c:\\users\\jabin choi\\appdata\\local\\continuum\\anaconda3\\lib\\site-packages (from requests->geocoder) (1.24.2)\n",
      "Requirement already satisfied: chardet<3.1.0,>=3.0.2 in c:\\users\\jabin choi\\appdata\\local\\continuum\\anaconda3\\lib\\site-packages (from requests->geocoder) (3.0.4)\n",
      "Requirement already satisfied: idna<2.9,>=2.5 in c:\\users\\jabin choi\\appdata\\local\\continuum\\anaconda3\\lib\\site-packages (from requests->geocoder) (2.8)\n",
      "Requirement already satisfied: certifi>=2017.4.17 in c:\\users\\jabin choi\\appdata\\local\\continuum\\anaconda3\\lib\\site-packages (from requests->geocoder) (2019.9.11)\n",
      "Requirement already satisfied: decorator in c:\\users\\jabin choi\\appdata\\local\\continuum\\anaconda3\\lib\\site-packages (from ratelim->geocoder) (4.4.0)\n"
     ]
    }
   ],
   "source": [
    "!pip install geocoder\n",
    "import geocoder"
   ]
  },
  {
   "cell_type": "code",
   "execution_count": 9,
   "metadata": {},
   "outputs": [
    {
     "data": {
      "text/plain": [
       "[43.70949500000006, -79.36398897099997]"
      ]
     },
     "execution_count": 9,
     "metadata": {},
     "output_type": "execute_result"
    }
   ],
   "source": [
    "# Find out the cooordinates based on Postal Code\n",
    "def coordinates(postalCode):\n",
    "    lat_lng = None\n",
    "    while(lat_lng is None):\n",
    "        g = geocoder.arcgis('{}, Toronto, ON'.format(postalCode))\n",
    "        lat_lng = g.latlng\n",
    "    return lat_lng\n",
    "\n",
    "coordinates('M4G')"
   ]
  },
  {
   "cell_type": "code",
   "execution_count": 10,
   "metadata": {},
   "outputs": [
    {
     "data": {
      "text/html": [
       "<div>\n",
       "<style scoped>\n",
       "    .dataframe tbody tr th:only-of-type {\n",
       "        vertical-align: middle;\n",
       "    }\n",
       "\n",
       "    .dataframe tbody tr th {\n",
       "        vertical-align: top;\n",
       "    }\n",
       "\n",
       "    .dataframe thead th {\n",
       "        text-align: right;\n",
       "    }\n",
       "</style>\n",
       "<table border=\"1\" class=\"dataframe\">\n",
       "  <thead>\n",
       "    <tr style=\"text-align: right;\">\n",
       "      <th></th>\n",
       "      <th>Postalcode</th>\n",
       "      <th>Borough</th>\n",
       "      <th>Neighbourhood</th>\n",
       "      <th>Latitude</th>\n",
       "      <th>Longitude</th>\n",
       "    </tr>\n",
       "  </thead>\n",
       "  <tbody>\n",
       "    <tr>\n",
       "      <td>0</td>\n",
       "      <td>M1B</td>\n",
       "      <td>Scarborough</td>\n",
       "      <td>Rouge, Malvern</td>\n",
       "      <td>43.811525</td>\n",
       "      <td>-79.195517</td>\n",
       "    </tr>\n",
       "    <tr>\n",
       "      <td>1</td>\n",
       "      <td>M1C</td>\n",
       "      <td>Scarborough</td>\n",
       "      <td>Highland Creek, Rouge Hill, Port Union</td>\n",
       "      <td>43.785665</td>\n",
       "      <td>-79.158725</td>\n",
       "    </tr>\n",
       "    <tr>\n",
       "      <td>2</td>\n",
       "      <td>M1E</td>\n",
       "      <td>Scarborough</td>\n",
       "      <td>Guildwood, Morningside, West Hill</td>\n",
       "      <td>43.765815</td>\n",
       "      <td>-79.175193</td>\n",
       "    </tr>\n",
       "    <tr>\n",
       "      <td>3</td>\n",
       "      <td>M1G</td>\n",
       "      <td>Scarborough</td>\n",
       "      <td>Woburn</td>\n",
       "      <td>43.768369</td>\n",
       "      <td>-79.217590</td>\n",
       "    </tr>\n",
       "    <tr>\n",
       "      <td>4</td>\n",
       "      <td>M1H</td>\n",
       "      <td>Scarborough</td>\n",
       "      <td>Cedarbrae</td>\n",
       "      <td>43.769688</td>\n",
       "      <td>-79.239440</td>\n",
       "    </tr>\n",
       "  </tbody>\n",
       "</table>\n",
       "</div>"
      ],
      "text/plain": [
       "  Postalcode      Borough                           Neighbourhood   Latitude  \\\n",
       "0        M1B  Scarborough                          Rouge, Malvern  43.811525   \n",
       "1        M1C  Scarborough  Highland Creek, Rouge Hill, Port Union  43.785665   \n",
       "2        M1E  Scarborough       Guildwood, Morningside, West Hill  43.765815   \n",
       "3        M1G  Scarborough                                  Woburn  43.768369   \n",
       "4        M1H  Scarborough                               Cedarbrae  43.769688   \n",
       "\n",
       "   Longitude  \n",
       "0 -79.195517  \n",
       "1 -79.158725  \n",
       "2 -79.175193  \n",
       "3 -79.217590  \n",
       "4 -79.239440  "
      ]
     },
     "execution_count": 10,
     "metadata": {},
     "output_type": "execute_result"
    }
   ],
   "source": [
    "postal_codes = new_df['Postalcode']\n",
    "coords = [coordinates(i) for i in postal_codes.tolist()]\n",
    "\n",
    "# Create new cols - Latitude and Longitude\n",
    "coordinates_df = pd.DataFrame(coords, columns=['Latitude', 'Longitude'])\n",
    "\n",
    "# Add new cols to 'new_df' Dataframe\n",
    "new_df['Latitude'] = coordinates_df['Latitude']\n",
    "new_df['Longitude'] = coordinates_df['Longitude']\n",
    "\n",
    "new_df.head()"
   ]
  },
  {
   "cell_type": "markdown",
   "metadata": {},
   "source": [
    "### Import new libraries"
   ]
  },
  {
   "cell_type": "code",
   "execution_count": 11,
   "metadata": {},
   "outputs": [
    {
     "name": "stdout",
     "output_type": "stream",
     "text": [
      "Collecting package metadata (current_repodata.json): ...working... done\n",
      "Solving environment: ...working... done\n",
      "\n",
      "# All requested packages already installed.\n",
      "\n",
      "Collecting package metadata (current_repodata.json): ...working... done\n",
      "Solving environment: ...working... done\n",
      "\n",
      "# All requested packages already installed.\n",
      "\n"
     ]
    }
   ],
   "source": [
    "import requests\n",
    "from bs4 import BeautifulSoup as bs\n",
    "import re\n",
    "\n",
    "import numpy as np\n",
    "import pandas as pd\n",
    "pd.set_option('display.max_columns', None)\n",
    "pd.set_option('display.max_rows', None)\n",
    "\n",
    "import json\n",
    "from pandas.io.json import json_normalize  # transform Json file into a pandas dataframe \n",
    "\n",
    "!conda install -c conda-forge geopy --yes\n",
    "from geopy.geocoders import Nominatim  # convert an address into latitude and longitude values\n",
    "\n",
    "import matplotlib.cm as cm\n",
    "import matplotlib.colors as colors\n",
    "\n",
    "from sklearn.cluster import KMeans\n",
    "\n",
    "!conda install -c conda-forge folium=0.5.0 --yes\n",
    "import folium"
   ]
  },
  {
   "cell_type": "code",
   "execution_count": 12,
   "metadata": {},
   "outputs": [
    {
     "name": "stderr",
     "output_type": "stream",
     "text": [
      "C:\\Users\\Jabin Choi\\AppData\\Local\\Continuum\\anaconda3\\lib\\site-packages\\ipykernel_launcher.py:3: DeprecationWarning: Using Nominatim with the default \"geopy/1.20.0\" `user_agent` is strongly discouraged, as it violates Nominatim's ToS https://operations.osmfoundation.org/policies/nominatim/ and may possibly cause 403 and 429 HTTP errors. Please specify a custom `user_agent` with `Nominatim(user_agent=\"my-application\")` or by overriding the default `user_agent`: `geopy.geocoders.options.default_user_agent = \"my-application\"`. In geopy 2.0 this will become an exception.\n",
      "  This is separate from the ipykernel package so we can avoid doing imports until\n"
     ]
    },
    {
     "name": "stdout",
     "output_type": "stream",
     "text": [
      "The coordinate of Toronto >>> Latitude: 43.653963, Longitude: -79.387207\n"
     ]
    },
    {
     "data": {
      "text/html": [
       "<div style=\"width:100%;\"><div style=\"position:relative;width:100%;height:0;padding-bottom:60%;\"><iframe src=\"data:text/html;charset=utf-8;base64,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\" style=\"position:absolute;width:100%;height:100%;left:0;top:0;border:none !important;\" allowfullscreen webkitallowfullscreen mozallowfullscreen></iframe></div></div>"
      ],
      "text/plain": [
       "<folium.folium.Map at 0x1539ae38408>"
      ]
     },
     "execution_count": 12,
     "metadata": {},
     "output_type": "execute_result"
    }
   ],
   "source": [
    "address = 'Toronto'\n",
    "\n",
    "geolocator = Nominatim()\n",
    "location = geolocator.geocode(address)\n",
    "latitude = location.latitude\n",
    "longitude = location.longitude\n",
    "\n",
    "print('The coordinate of Toronto >>> Latitude: {}, Longitude: {}'.format(latitude, longitude))\n",
    "\n",
    "# Create a map of Toronto\n",
    "map_toronto = folium.Map(location=[latitude, longitude], zoom_start=10)\n",
    "\n",
    "# Add markers to the map\n",
    "for lat, lng, borough, neighbourhood in zip(new_df['Latitude'], new_df['Longitude'], new_df['Borough'], new_df['Neighbourhood']):\n",
    "    str_label = '{}, {}'.format(neighbourhood, borough)\n",
    "    label = folium.Popup(str_label, parse_html=True)\n",
    "    folium.CircleMarker(\n",
    "        [lat, lng],\n",
    "        radius=5,\n",
    "        popup=label,\n",
    "        color='blue',\n",
    "        fill=True,\n",
    "        fill_color='#3186cc',\n",
    "        fill_opacity=0.7,\n",
    "        parse_html=False\n",
    "    ).add_to(map_toronto)\n",
    "    \n",
    "map_toronto    "
   ]
  },
  {
   "cell_type": "code",
   "execution_count": 13,
   "metadata": {},
   "outputs": [
    {
     "name": "stderr",
     "output_type": "stream",
     "text": [
      "C:\\Users\\Jabin Choi\\AppData\\Local\\Continuum\\anaconda3\\lib\\site-packages\\ipykernel_launcher.py:4: DeprecationWarning: Using Nominatim with the default \"geopy/1.20.0\" `user_agent` is strongly discouraged, as it violates Nominatim's ToS https://operations.osmfoundation.org/policies/nominatim/ and may possibly cause 403 and 429 HTTP errors. Please specify a custom `user_agent` with `Nominatim(user_agent=\"my-application\")` or by overriding the default `user_agent`: `geopy.geocoders.options.default_user_agent = \"my-application\"`. In geopy 2.0 this will become an exception.\n",
      "  after removing the cwd from sys.path.\n"
     ]
    },
    {
     "name": "stdout",
     "output_type": "stream",
     "text": [
      "The coordinate of Scarborough >>>> Latitude: 43.773077, Longitude: -79.257774\n"
     ]
    }
   ],
   "source": [
    "scarborough_data = new_df[new_df['Borough'] == 'Scarborough'].reset_index(drop=True)\n",
    "scarborough_address = 'Scarborough, Toronto'\n",
    "\n",
    "geolocator2 = Nominatim()\n",
    "location2 = geolocator2.geocode(scarborough_address)\n",
    "latitude2 = location2.latitude\n",
    "longitude2 = location2.longitude\n",
    "\n",
    "print('The coordinate of Scarborough >>>> Latitude: {}, Longitude: {}'.format(latitude2, longitude2))"
   ]
  },
  {
   "cell_type": "code",
   "execution_count": 14,
   "metadata": {},
   "outputs": [
    {
     "data": {
      "text/html": [
       "<div style=\"width:100%;\"><div style=\"position:relative;width:100%;height:0;padding-bottom:60%;\"><iframe src=\"data:text/html;charset=utf-8;base64,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\" style=\"position:absolute;width:100%;height:100%;left:0;top:0;border:none !important;\" allowfullscreen webkitallowfullscreen mozallowfullscreen></iframe></div></div>"
      ],
      "text/plain": [
       "<folium.folium.Map at 0x1539b373b08>"
      ]
     },
     "execution_count": 14,
     "metadata": {},
     "output_type": "execute_result"
    }
   ],
   "source": [
    "map_scarborough = folium.Map(location=[latitude2, longitude2], zoom_start=11)\n",
    "\n",
    "# Add markders to the map\n",
    "for lat, lng, neighbourhoods in zip(scarborough_data['Latitude'], scarborough_data['Longitude'], scarborough_data['Neighbourhood']):\n",
    "    label = folium.Popup(label, parse_html=True)\n",
    "    folium.CircleMarker(\n",
    "        [lat, lng],\n",
    "        radius=4,\n",
    "        popup=label,\n",
    "        color='red',\n",
    "        fill=True,\n",
    "        fill_color='#3186cc',\n",
    "        fill_opacity=0.7,\n",
    "        parse_html=False\n",
    "    ).add_to(map_toronto)\n",
    "\n",
    "map_scarborough"
   ]
  },
  {
   "cell_type": "code",
   "execution_count": 15,
   "metadata": {},
   "outputs": [],
   "source": [
    "def get_category_type(row):\n",
    "    try:\n",
    "        categories_list = row['categories']\n",
    "    except:\n",
    "        categories_list = row['venue.categories']\n",
    "    \n",
    "    if len(categories_list) == 0:\n",
    "        return None\n",
    "    else:\n",
    "        return categories_list[0]['name']"
   ]
  },
  {
   "cell_type": "code",
   "execution_count": 16,
   "metadata": {},
   "outputs": [],
   "source": [
    "CLIENT_ID = '0MJA3NYYG3U2ZY1LTZN2OYEHS3Y3WVSON2GBSO3IL4EDYVIR' # your Foursquare ID\n",
    "CLIENT_SECRET = 'WGWSAF2TKVUQPE3PD0N3EOITFVBY5EYP1VCZI3BMUG0ROUS5' # your Foursquare Secret\n",
    "VERSION = '20180605' # Foursquare API version\n",
    "\n",
    "LIMIT=100\n",
    "radius=500\n",
    "\n",
    "url='https://api.foursquare.com/v2/venues/explore?client_id={}&client_secret={}&ll={},{}&v={}&radius={}&limit={}'.format(CLIENT_ID, CLIENT_SECRET, latitude2, longitude2, VERSION, radius, LIMIT)"
   ]
  },
  {
   "cell_type": "code",
   "execution_count": 17,
   "metadata": {},
   "outputs": [
    {
     "data": {
      "text/html": [
       "<div>\n",
       "<style scoped>\n",
       "    .dataframe tbody tr th:only-of-type {\n",
       "        vertical-align: middle;\n",
       "    }\n",
       "\n",
       "    .dataframe tbody tr th {\n",
       "        vertical-align: top;\n",
       "    }\n",
       "\n",
       "    .dataframe thead th {\n",
       "        text-align: right;\n",
       "    }\n",
       "</style>\n",
       "<table border=\"1\" class=\"dataframe\">\n",
       "  <thead>\n",
       "    <tr style=\"text-align: right;\">\n",
       "      <th></th>\n",
       "      <th>name</th>\n",
       "      <th>categories</th>\n",
       "      <th>lat</th>\n",
       "      <th>lng</th>\n",
       "    </tr>\n",
       "  </thead>\n",
       "  <tbody>\n",
       "    <tr>\n",
       "      <td>0</td>\n",
       "      <td>SEPHORA</td>\n",
       "      <td>Cosmetics Shop</td>\n",
       "      <td>43.775017</td>\n",
       "      <td>-79.258109</td>\n",
       "    </tr>\n",
       "    <tr>\n",
       "      <td>1</td>\n",
       "      <td>Disney Store</td>\n",
       "      <td>Toy / Game Store</td>\n",
       "      <td>43.775537</td>\n",
       "      <td>-79.256833</td>\n",
       "    </tr>\n",
       "    <tr>\n",
       "      <td>2</td>\n",
       "      <td>American Eagle Outfitters</td>\n",
       "      <td>Clothing Store</td>\n",
       "      <td>43.776012</td>\n",
       "      <td>-79.258334</td>\n",
       "    </tr>\n",
       "    <tr>\n",
       "      <td>3</td>\n",
       "      <td>DAVIDsTEA</td>\n",
       "      <td>Tea Room</td>\n",
       "      <td>43.776613</td>\n",
       "      <td>-79.258516</td>\n",
       "    </tr>\n",
       "    <tr>\n",
       "      <td>4</td>\n",
       "      <td>Hot Topic</td>\n",
       "      <td>Clothing Store</td>\n",
       "      <td>43.775450</td>\n",
       "      <td>-79.257929</td>\n",
       "    </tr>\n",
       "  </tbody>\n",
       "</table>\n",
       "</div>"
      ],
      "text/plain": [
       "                        name        categories        lat        lng\n",
       "0                    SEPHORA    Cosmetics Shop  43.775017 -79.258109\n",
       "1               Disney Store  Toy / Game Store  43.775537 -79.256833\n",
       "2  American Eagle Outfitters    Clothing Store  43.776012 -79.258334\n",
       "3                  DAVIDsTEA          Tea Room  43.776613 -79.258516\n",
       "4                  Hot Topic    Clothing Store  43.775450 -79.257929"
      ]
     },
     "execution_count": 17,
     "metadata": {},
     "output_type": "execute_result"
    }
   ],
   "source": [
    "results = requests.get(url).json()\n",
    "venues = results['response']['groups'][0]['items']\n",
    "\n",
    "nearby_venues = json_normalize(venues)\n",
    "\n",
    "# filter columns\n",
    "filtered_columns = ['venue.name', 'venue.categories', 'venue.location.lat', 'venue.location.lng']\n",
    "nearby_venues =nearby_venues.loc[:, filtered_columns]\n",
    "\n",
    "# filter the category for each row\n",
    "nearby_venues['venue.categories'] = nearby_venues.apply(get_category_type, axis=1)\n",
    "\n",
    "# clean columns\n",
    "nearby_venues.columns = [col.split(\".\")[-1] for col in nearby_venues.columns]\n",
    "\n",
    "nearby_venues.head()"
   ]
  },
  {
   "cell_type": "code",
   "execution_count": 18,
   "metadata": {},
   "outputs": [],
   "source": [
    "def getNearbyVenues(names, latitudes, longitudes, radius=500):\n",
    "    \n",
    "    venues_list=[]\n",
    "    for name, lat, lng in zip(names, latitudes, longitudes):\n",
    "        print(name)\n",
    "            \n",
    "        # create the API request URL\n",
    "        url = 'https://api.foursquare.com/v2/venues/explore?&client_id={}&client_secret={}&v={}&ll={},{}&radius={}&limit={}'.format(\n",
    "            CLIENT_ID, \n",
    "            CLIENT_SECRET, \n",
    "            VERSION, \n",
    "            lat, \n",
    "            lng, \n",
    "            radius, \n",
    "            LIMIT)\n",
    "            \n",
    "        # make the GET request\n",
    "        results = requests.get(url).json()[\"response\"]['groups'][0]['items']\n",
    "        \n",
    "        # return only relevant information for each nearby venue\n",
    "        venues_list.append([(\n",
    "            name, \n",
    "            lat, \n",
    "            lng, \n",
    "            v['venue']['name'], \n",
    "            v['venue']['location']['lat'], \n",
    "            v['venue']['location']['lng'],  \n",
    "            v['venue']['categories'][0]['name']) for v in results])\n",
    "\n",
    "    nearby_venues = pd.DataFrame([item for venue_list in venues_list for item in venue_list])\n",
    "    nearby_venues.columns = ['Neighbourhood', \n",
    "                  'Neighbourhood Latitude', \n",
    "                  'Neighbourhood Longitude', \n",
    "                  'Venue', \n",
    "                  'Venue Latitude', \n",
    "                  'Venue Longitude', \n",
    "                  'Venue Category']\n",
    "    \n",
    "    return(nearby_venues)"
   ]
  },
  {
   "cell_type": "code",
   "execution_count": 19,
   "metadata": {},
   "outputs": [
    {
     "name": "stdout",
     "output_type": "stream",
     "text": [
      "Rouge, Malvern\n",
      "Highland Creek, Rouge Hill, Port Union\n",
      "Guildwood, Morningside, West Hill\n",
      "Woburn\n",
      "Cedarbrae\n",
      "Scarborough Village\n",
      "East Birchmount Park, Ionview, Kennedy Park\n",
      "Clairlea, Golden Mile, Oakridge\n",
      "Cliffcrest, Cliffside, Scarborough Village West\n",
      "Birch Cliff, Cliffside West\n",
      "Dorset Park, Scarborough Town Centre, Wexford Heights\n",
      "Maryvale, Wexford\n",
      "Agincourt\n",
      "Clarks Corners, Sullivan, Tam O'Shanter\n",
      "Agincourt North, L'Amoreaux East, Milliken, Steeles East\n",
      "L'Amoreaux West\n",
      "Upper Rouge\n"
     ]
    }
   ],
   "source": [
    "scarborough_venues = getNearbyVenues(\n",
    "                                    names=scarborough_data['Neighbourhood'],\n",
    "                                    latitudes=scarborough_data['Latitude'],\n",
    "                                    longitudes=scarborough_data['Longitude']\n",
    "                                  )"
   ]
  },
  {
   "cell_type": "markdown",
   "metadata": {},
   "source": [
    "### Top 10 venues per neighbourhood"
   ]
  },
  {
   "cell_type": "code",
   "execution_count": 20,
   "metadata": {},
   "outputs": [],
   "source": [
    "def return_most_common_venues(row, num_top_venues):\n",
    "    row_categories = row.iloc[1:]\n",
    "    row_categories_sorted = row_categories.sort_values(ascending=False)\n",
    "    \n",
    "    return row_categories_sorted.index.values[0:num_top_venues]"
   ]
  },
  {
   "cell_type": "code",
   "execution_count": 21,
   "metadata": {},
   "outputs": [],
   "source": [
    "# Encoding\n",
    "scarb_onehot = pd.get_dummies(scarborough_venues[['Venue Category']], prefix=\"\", prefix_sep=\"\")\n",
    "\n",
    "# Add Neighbourhood column back to dataframe\n",
    "scarb_onehot['Neighbourhood'] = scarborough_venues['Neighbourhood'] \n",
    "\n",
    "# Move neighbourhood column to the first column\n",
    "fixed_columns = [scarb_onehot.columns[-1]] + list(scarb_onehot.columns[:-1])\n",
    "scarb_onehot = scarb_onehot[fixed_columns]\n",
    "\n",
    "scarb_grouped = scarb_onehot.groupby('Neighbourhood').mean().reset_index()"
   ]
  },
  {
   "cell_type": "code",
   "execution_count": 22,
   "metadata": {},
   "outputs": [
    {
     "data": {
      "text/html": [
       "<div>\n",
       "<style scoped>\n",
       "    .dataframe tbody tr th:only-of-type {\n",
       "        vertical-align: middle;\n",
       "    }\n",
       "\n",
       "    .dataframe tbody tr th {\n",
       "        vertical-align: top;\n",
       "    }\n",
       "\n",
       "    .dataframe thead th {\n",
       "        text-align: right;\n",
       "    }\n",
       "</style>\n",
       "<table border=\"1\" class=\"dataframe\">\n",
       "  <thead>\n",
       "    <tr style=\"text-align: right;\">\n",
       "      <th></th>\n",
       "      <th>Neighbourhood</th>\n",
       "      <th>1st Most common venue</th>\n",
       "      <th>2nd Most common venue</th>\n",
       "      <th>3rd Most common venue</th>\n",
       "      <th>4th Most common venue</th>\n",
       "      <th>5th Most common venue</th>\n",
       "      <th>6th Most common venue</th>\n",
       "      <th>7th Most common venue</th>\n",
       "      <th>8th Most common venue</th>\n",
       "      <th>9th Most common venue</th>\n",
       "      <th>10th Most common venue</th>\n",
       "    </tr>\n",
       "  </thead>\n",
       "  <tbody>\n",
       "    <tr>\n",
       "      <td>0</td>\n",
       "      <td>Agincourt</td>\n",
       "      <td>Chinese Restaurant</td>\n",
       "      <td>Shopping Mall</td>\n",
       "      <td>Vietnamese Restaurant</td>\n",
       "      <td>Skating Rink</td>\n",
       "      <td>Park</td>\n",
       "      <td>Discount Store</td>\n",
       "      <td>Pool</td>\n",
       "      <td>Shanghai Restaurant</td>\n",
       "      <td>Supermarket</td>\n",
       "      <td>Sushi Restaurant</td>\n",
       "    </tr>\n",
       "    <tr>\n",
       "      <td>1</td>\n",
       "      <td>Agincourt North, L'Amoreaux East, Milliken, St...</td>\n",
       "      <td>Pharmacy</td>\n",
       "      <td>Vietnamese Restaurant</td>\n",
       "      <td>Gym Pool</td>\n",
       "      <td>Gym</td>\n",
       "      <td>Grocery Store</td>\n",
       "      <td>Golf Course</td>\n",
       "      <td>Gift Shop</td>\n",
       "      <td>General Entertainment</td>\n",
       "      <td>Fried Chicken Joint</td>\n",
       "      <td>Flower Shop</td>\n",
       "    </tr>\n",
       "    <tr>\n",
       "      <td>2</td>\n",
       "      <td>Birch Cliff, Cliffside West</td>\n",
       "      <td>Gym Pool</td>\n",
       "      <td>Gym</td>\n",
       "      <td>General Entertainment</td>\n",
       "      <td>Skating Rink</td>\n",
       "      <td>Park</td>\n",
       "      <td>College Stadium</td>\n",
       "      <td>Department Store</td>\n",
       "      <td>Grocery Store</td>\n",
       "      <td>Golf Course</td>\n",
       "      <td>Gift Shop</td>\n",
       "    </tr>\n",
       "    <tr>\n",
       "      <td>3</td>\n",
       "      <td>Cedarbrae</td>\n",
       "      <td>Playground</td>\n",
       "      <td>Trail</td>\n",
       "      <td>Vietnamese Restaurant</td>\n",
       "      <td>Grocery Store</td>\n",
       "      <td>Golf Course</td>\n",
       "      <td>Gift Shop</td>\n",
       "      <td>General Entertainment</td>\n",
       "      <td>Fried Chicken Joint</td>\n",
       "      <td>Flower Shop</td>\n",
       "      <td>Fast Food Restaurant</td>\n",
       "    </tr>\n",
       "    <tr>\n",
       "      <td>4</td>\n",
       "      <td>Clairlea, Golden Mile, Oakridge</td>\n",
       "      <td>Bakery</td>\n",
       "      <td>Bus Line</td>\n",
       "      <td>Intersection</td>\n",
       "      <td>Soccer Field</td>\n",
       "      <td>Bus Station</td>\n",
       "      <td>Coffee Shop</td>\n",
       "      <td>Metro Station</td>\n",
       "      <td>Vietnamese Restaurant</td>\n",
       "      <td>Discount Store</td>\n",
       "      <td>Grocery Store</td>\n",
       "    </tr>\n",
       "  </tbody>\n",
       "</table>\n",
       "</div>"
      ],
      "text/plain": [
       "                                       Neighbourhood 1st Most common venue  \\\n",
       "0                                          Agincourt    Chinese Restaurant   \n",
       "1  Agincourt North, L'Amoreaux East, Milliken, St...              Pharmacy   \n",
       "2                        Birch Cliff, Cliffside West              Gym Pool   \n",
       "3                                          Cedarbrae            Playground   \n",
       "4                    Clairlea, Golden Mile, Oakridge                Bakery   \n",
       "\n",
       "   2nd Most common venue  3rd Most common venue 4th Most common venue  \\\n",
       "0          Shopping Mall  Vietnamese Restaurant          Skating Rink   \n",
       "1  Vietnamese Restaurant               Gym Pool                   Gym   \n",
       "2                    Gym  General Entertainment          Skating Rink   \n",
       "3                  Trail  Vietnamese Restaurant         Grocery Store   \n",
       "4               Bus Line           Intersection          Soccer Field   \n",
       "\n",
       "  5th Most common venue 6th Most common venue  7th Most common venue  \\\n",
       "0                  Park        Discount Store                   Pool   \n",
       "1         Grocery Store           Golf Course              Gift Shop   \n",
       "2                  Park       College Stadium       Department Store   \n",
       "3           Golf Course             Gift Shop  General Entertainment   \n",
       "4           Bus Station           Coffee Shop          Metro Station   \n",
       "\n",
       "   8th Most common venue 9th Most common venue 10th Most common venue  \n",
       "0    Shanghai Restaurant           Supermarket       Sushi Restaurant  \n",
       "1  General Entertainment   Fried Chicken Joint            Flower Shop  \n",
       "2          Grocery Store           Golf Course              Gift Shop  \n",
       "3    Fried Chicken Joint           Flower Shop   Fast Food Restaurant  \n",
       "4  Vietnamese Restaurant        Discount Store          Grocery Store  "
      ]
     },
     "execution_count": 22,
     "metadata": {},
     "output_type": "execute_result"
    }
   ],
   "source": [
    "number_top_venues = 10\n",
    "indicator = ['st', 'nd', 'rd']\n",
    "columns = ['Neighbourhood']\n",
    "\n",
    "for i in np.arange(number_top_venues):\n",
    "    try:\n",
    "        columns.append('{}{} Most common venue'.format(i+1, indicator[i]))\n",
    "    except:\n",
    "        columns.append('{}th Most common venue'.format(i+1))\n",
    "\n",
    "# Create a new dataframe\n",
    "sorted_neighbour_venues = pd.DataFrame(columns=columns)\n",
    "sorted_neighbour_venues['Neighbourhood'] = scarb_grouped['Neighbourhood']\n",
    "\n",
    "for i in np.arange(scarb_grouped.shape[0]):\n",
    "    sorted_neighbour_venues.iloc[i, 1:] = return_most_common_venues(scarb_grouped.iloc[i, :], number_top_venues)\n",
    "\n",
    "sorted_neighbour_venues.head()"
   ]
  },
  {
   "cell_type": "markdown",
   "metadata": {},
   "source": [
    "### K-Means - 5 clusters"
   ]
  },
  {
   "cell_type": "code",
   "execution_count": 23,
   "metadata": {},
   "outputs": [
    {
     "data": {
      "text/html": [
       "<div>\n",
       "<style scoped>\n",
       "    .dataframe tbody tr th:only-of-type {\n",
       "        vertical-align: middle;\n",
       "    }\n",
       "\n",
       "    .dataframe tbody tr th {\n",
       "        vertical-align: top;\n",
       "    }\n",
       "\n",
       "    .dataframe thead th {\n",
       "        text-align: right;\n",
       "    }\n",
       "</style>\n",
       "<table border=\"1\" class=\"dataframe\">\n",
       "  <thead>\n",
       "    <tr style=\"text-align: right;\">\n",
       "      <th></th>\n",
       "      <th>Postalcode</th>\n",
       "      <th>Borough</th>\n",
       "      <th>Neighbourhood</th>\n",
       "      <th>Latitude</th>\n",
       "      <th>Longitude</th>\n",
       "      <th>Labels</th>\n",
       "      <th>1st Most common venue</th>\n",
       "      <th>2nd Most common venue</th>\n",
       "      <th>3rd Most common venue</th>\n",
       "      <th>4th Most common venue</th>\n",
       "      <th>5th Most common venue</th>\n",
       "      <th>6th Most common venue</th>\n",
       "      <th>7th Most common venue</th>\n",
       "      <th>8th Most common venue</th>\n",
       "      <th>9th Most common venue</th>\n",
       "      <th>10th Most common venue</th>\n",
       "    </tr>\n",
       "  </thead>\n",
       "  <tbody>\n",
       "    <tr>\n",
       "      <td>0</td>\n",
       "      <td>M1B</td>\n",
       "      <td>Scarborough</td>\n",
       "      <td>Rouge, Malvern</td>\n",
       "      <td>43.811525</td>\n",
       "      <td>-79.195517</td>\n",
       "      <td>0</td>\n",
       "      <td>Home Service</td>\n",
       "      <td>Vietnamese Restaurant</td>\n",
       "      <td>Gym Pool</td>\n",
       "      <td>Gym</td>\n",
       "      <td>Grocery Store</td>\n",
       "      <td>Golf Course</td>\n",
       "      <td>Gift Shop</td>\n",
       "      <td>General Entertainment</td>\n",
       "      <td>Fried Chicken Joint</td>\n",
       "      <td>Flower Shop</td>\n",
       "    </tr>\n",
       "    <tr>\n",
       "      <td>1</td>\n",
       "      <td>M1C</td>\n",
       "      <td>Scarborough</td>\n",
       "      <td>Highland Creek, Rouge Hill, Port Union</td>\n",
       "      <td>43.785665</td>\n",
       "      <td>-79.158725</td>\n",
       "      <td>2</td>\n",
       "      <td>Bar</td>\n",
       "      <td>Golf Course</td>\n",
       "      <td>Vietnamese Restaurant</td>\n",
       "      <td>Convenience Store</td>\n",
       "      <td>Gym</td>\n",
       "      <td>Grocery Store</td>\n",
       "      <td>Gift Shop</td>\n",
       "      <td>General Entertainment</td>\n",
       "      <td>Fried Chicken Joint</td>\n",
       "      <td>Flower Shop</td>\n",
       "    </tr>\n",
       "    <tr>\n",
       "      <td>2</td>\n",
       "      <td>M1E</td>\n",
       "      <td>Scarborough</td>\n",
       "      <td>Guildwood, Morningside, West Hill</td>\n",
       "      <td>43.765815</td>\n",
       "      <td>-79.175193</td>\n",
       "      <td>0</td>\n",
       "      <td>Gym / Fitness Center</td>\n",
       "      <td>Park</td>\n",
       "      <td>Construction &amp; Landscaping</td>\n",
       "      <td>Department Store</td>\n",
       "      <td>Gym</td>\n",
       "      <td>Grocery Store</td>\n",
       "      <td>Golf Course</td>\n",
       "      <td>Gift Shop</td>\n",
       "      <td>General Entertainment</td>\n",
       "      <td>Fried Chicken Joint</td>\n",
       "    </tr>\n",
       "    <tr>\n",
       "      <td>3</td>\n",
       "      <td>M1G</td>\n",
       "      <td>Scarborough</td>\n",
       "      <td>Woburn</td>\n",
       "      <td>43.768369</td>\n",
       "      <td>-79.217590</td>\n",
       "      <td>4</td>\n",
       "      <td>Korean Restaurant</td>\n",
       "      <td>Business Service</td>\n",
       "      <td>Coffee Shop</td>\n",
       "      <td>Park</td>\n",
       "      <td>Vietnamese Restaurant</td>\n",
       "      <td>Department Store</td>\n",
       "      <td>Grocery Store</td>\n",
       "      <td>Golf Course</td>\n",
       "      <td>Gift Shop</td>\n",
       "      <td>General Entertainment</td>\n",
       "    </tr>\n",
       "    <tr>\n",
       "      <td>4</td>\n",
       "      <td>M1H</td>\n",
       "      <td>Scarborough</td>\n",
       "      <td>Cedarbrae</td>\n",
       "      <td>43.769688</td>\n",
       "      <td>-79.239440</td>\n",
       "      <td>0</td>\n",
       "      <td>Playground</td>\n",
       "      <td>Trail</td>\n",
       "      <td>Vietnamese Restaurant</td>\n",
       "      <td>Grocery Store</td>\n",
       "      <td>Golf Course</td>\n",
       "      <td>Gift Shop</td>\n",
       "      <td>General Entertainment</td>\n",
       "      <td>Fried Chicken Joint</td>\n",
       "      <td>Flower Shop</td>\n",
       "      <td>Fast Food Restaurant</td>\n",
       "    </tr>\n",
       "  </tbody>\n",
       "</table>\n",
       "</div>"
      ],
      "text/plain": [
       "  Postalcode      Borough                           Neighbourhood   Latitude  \\\n",
       "0        M1B  Scarborough                          Rouge, Malvern  43.811525   \n",
       "1        M1C  Scarborough  Highland Creek, Rouge Hill, Port Union  43.785665   \n",
       "2        M1E  Scarborough       Guildwood, Morningside, West Hill  43.765815   \n",
       "3        M1G  Scarborough                                  Woburn  43.768369   \n",
       "4        M1H  Scarborough                               Cedarbrae  43.769688   \n",
       "\n",
       "   Longitude  Labels 1st Most common venue  2nd Most common venue  \\\n",
       "0 -79.195517       0          Home Service  Vietnamese Restaurant   \n",
       "1 -79.158725       2                   Bar            Golf Course   \n",
       "2 -79.175193       0  Gym / Fitness Center                   Park   \n",
       "3 -79.217590       4     Korean Restaurant       Business Service   \n",
       "4 -79.239440       0            Playground                  Trail   \n",
       "\n",
       "        3rd Most common venue 4th Most common venue  5th Most common venue  \\\n",
       "0                    Gym Pool                   Gym          Grocery Store   \n",
       "1       Vietnamese Restaurant     Convenience Store                    Gym   \n",
       "2  Construction & Landscaping      Department Store                    Gym   \n",
       "3                 Coffee Shop                  Park  Vietnamese Restaurant   \n",
       "4       Vietnamese Restaurant         Grocery Store            Golf Course   \n",
       "\n",
       "  6th Most common venue  7th Most common venue  8th Most common venue  \\\n",
       "0           Golf Course              Gift Shop  General Entertainment   \n",
       "1         Grocery Store              Gift Shop  General Entertainment   \n",
       "2         Grocery Store            Golf Course              Gift Shop   \n",
       "3      Department Store          Grocery Store            Golf Course   \n",
       "4             Gift Shop  General Entertainment    Fried Chicken Joint   \n",
       "\n",
       "   9th Most common venue 10th Most common venue  \n",
       "0    Fried Chicken Joint            Flower Shop  \n",
       "1    Fried Chicken Joint            Flower Shop  \n",
       "2  General Entertainment    Fried Chicken Joint  \n",
       "3              Gift Shop  General Entertainment  \n",
       "4            Flower Shop   Fast Food Restaurant  "
      ]
     },
     "execution_count": 23,
     "metadata": {},
     "output_type": "execute_result"
    }
   ],
   "source": [
    "scarb_data = scarborough_data.drop(16)\n",
    "\n",
    "k = 5\n",
    "\n",
    "scarb_grouped_clustering = scarb_grouped.drop('Neighbourhood', 1)\n",
    "\n",
    "# Run K-Means Clustering\n",
    "kmeans = KMeans(n_clusters=k, random_state=0).fit(scarb_grouped_clustering)\n",
    "\n",
    "scarb_merged = scarb_data\n",
    "\n",
    "# Add clustering labels\n",
    "scarb_merged['Labels'] = kmeans.labels_\n",
    "\n",
    "# Merge toronto_grouped with toronto_data - To add latitude / longitude for each Neighbourhood\n",
    "scarb_merged = scarb_merged.join(sorted_neighbour_venues.set_index('Neighbourhood'), on='Neighbourhood')\n",
    "scarb_merged.head()"
   ]
  },
  {
   "cell_type": "markdown",
   "metadata": {},
   "source": [
    "### Visualization"
   ]
  },
  {
   "cell_type": "code",
   "execution_count": 24,
   "metadata": {},
   "outputs": [
    {
     "data": {
      "text/html": [
       "<div style=\"width:100%;\"><div style=\"position:relative;width:100%;height:0;padding-bottom:60%;\"><iframe src=\"data:text/html;charset=utf-8;base64,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\" style=\"position:absolute;width:100%;height:100%;left:0;top:0;border:none !important;\" allowfullscreen webkitallowfullscreen mozallowfullscreen></iframe></div></div>"
      ],
      "text/plain": [
       "<folium.folium.Map at 0x1539b43ebc8>"
      ]
     },
     "execution_count": 24,
     "metadata": {},
     "output_type": "execute_result"
    }
   ],
   "source": [
    "map_clusters = folium.Map(location=[latitude, longitude], zoom_start=11)\n",
    "\n",
    "# Colours scheme for clusters\n",
    "x = np.arange(k)\n",
    "ys = [i+x+(i*x)**2 for i in range(k)]\n",
    "colors_arr = cm.rainbow(np.linspace(0,1,len(ys)))\n",
    "rainbow=[colors.rgb2hex(i) for i in colors_arr]\n",
    "\n",
    "# Add markers to the map\n",
    "markers_colors = []\n",
    "\n",
    "for lat, lng, poi, cluster in zip(scarb_merged['Latitude'], scarb_merged['Longitude'], scarb_merged['Neighbourhood'], scarb_merged['Labels']):\n",
    "    label = folium.Popup(str(poi) + ' Cluster ' + str(cluster), parse_html=True)\n",
    "    folium.CircleMarker(\n",
    "        [lat, lng],\n",
    "        radius=5,\n",
    "        popup=label,\n",
    "        color=rainbow[cluster-1],\n",
    "        fill=True,\n",
    "        fill_color=rainbow[cluster-1],\n",
    "        fill_opacity=0.7\n",
    "    ).add_to(map_clusters)\n",
    "       \n",
    "map_clusters"
   ]
  },
  {
   "cell_type": "code",
   "execution_count": 25,
   "metadata": {},
   "outputs": [],
   "source": [
    "df1 = scarb_merged.loc[scarb_merged['Labels']==0, scarb_merged.columns[[2] + list(range(5, scarb_merged.shape[1]))]]\n",
    "df2 = scarb_merged.loc[scarb_merged['Labels']==1, scarb_merged.columns[[2] + list(range(5, scarb_merged.shape[1]))]]\n",
    "df3 = scarb_merged.loc[scarb_merged['Labels']==2, scarb_merged.columns[[2] + list(range(5, scarb_merged.shape[1]))]]\n",
    "df4 = scarb_merged.loc[scarb_merged['Labels']==3, scarb_merged.columns[[2] + list(range(5, scarb_merged.shape[1]))]]\n",
    "df5 = scarb_merged.loc[scarb_merged['Labels']==4, scarb_merged.columns[[2] + list(range(5, scarb_merged.shape[1]))]]"
   ]
  },
  {
   "cell_type": "markdown",
   "metadata": {},
   "source": [
    "### Average of housing price"
   ]
  },
  {
   "cell_type": "code",
   "execution_count": 32,
   "metadata": {},
   "outputs": [
    {
     "data": {
      "text/plain": [
       "(17, 5)"
      ]
     },
     "execution_count": 32,
     "metadata": {},
     "output_type": "execute_result"
    }
   ],
   "source": [
    "scarb_merged = new_df.loc[:16, :]\n",
    "scarb_merged.shape"
   ]
  },
  {
   "cell_type": "code",
   "execution_count": 33,
   "metadata": {},
   "outputs": [
    {
     "data": {
      "text/html": [
       "<div>\n",
       "<style scoped>\n",
       "    .dataframe tbody tr th:only-of-type {\n",
       "        vertical-align: middle;\n",
       "    }\n",
       "\n",
       "    .dataframe tbody tr th {\n",
       "        vertical-align: top;\n",
       "    }\n",
       "\n",
       "    .dataframe thead th {\n",
       "        text-align: right;\n",
       "    }\n",
       "</style>\n",
       "<table border=\"1\" class=\"dataframe\">\n",
       "  <thead>\n",
       "    <tr style=\"text-align: right;\">\n",
       "      <th></th>\n",
       "      <th>Neighbourhood</th>\n",
       "      <th>Average_Housing_Price</th>\n",
       "    </tr>\n",
       "  </thead>\n",
       "  <tbody>\n",
       "    <tr>\n",
       "      <td>0</td>\n",
       "      <td>Rouge, Malvern</td>\n",
       "      <td>335000.0</td>\n",
       "    </tr>\n",
       "    <tr>\n",
       "      <td>1</td>\n",
       "      <td>Highland Creek, Rouge Hill, Port Union</td>\n",
       "      <td>286600.0</td>\n",
       "    </tr>\n",
       "    <tr>\n",
       "      <td>2</td>\n",
       "      <td>Guildwood, Morningside, West Hill</td>\n",
       "      <td>175000.0</td>\n",
       "    </tr>\n",
       "    <tr>\n",
       "      <td>3</td>\n",
       "      <td>Woburn</td>\n",
       "      <td>225900.0</td>\n",
       "    </tr>\n",
       "    <tr>\n",
       "      <td>4</td>\n",
       "      <td>Cedarbrae</td>\n",
       "      <td>219400.0</td>\n",
       "    </tr>\n",
       "  </tbody>\n",
       "</table>\n",
       "</div>"
      ],
      "text/plain": [
       "                            Neighbourhood  Average_Housing_Price\n",
       "0                          Rouge, Malvern               335000.0\n",
       "1  Highland Creek, Rouge Hill, Port Union               286600.0\n",
       "2       Guildwood, Morningside, West Hill               175000.0\n",
       "3                                  Woburn               225900.0\n",
       "4                               Cedarbrae               219400.0"
      ]
     },
     "execution_count": 33,
     "metadata": {},
     "output_type": "execute_result"
    }
   ],
   "source": [
    "data_housing_price = [335000.0, 286600.0, 175000.0, 225900.0, 219400.0,\n",
    "                            573900.0, 225000.0, 370500.0, 370500.0, 433500.0, 279200.0,\n",
    "                            279200.0, 225000.0, 370500., 255400.0, 433500.0, 433500.0]\n",
    "\n",
    "df_average_housing_price = pd.DataFrame(\n",
    "    {'Neighbourhood': scarb_merged['Neighbourhood'],\n",
    "    'Average_Housing_Price': data_housing_price}\n",
    ")\n",
    "\n",
    "df_average_housing_price.head()"
   ]
  },
  {
   "cell_type": "code",
   "execution_count": 34,
   "metadata": {},
   "outputs": [
    {
     "data": {
      "text/plain": [
       "<matplotlib.axes._subplots.AxesSubplot at 0x1539c09a308>"
      ]
     },
     "execution_count": 34,
     "metadata": {},
     "output_type": "execute_result"
    },
    {
     "data": {
      "image/png": "[encoded data removed]",
      "text/plain": [
       "<Figure size 576x432 with 1 Axes>"
      ]
     },
     "metadata": {
      "needs_background": "light"
     },
     "output_type": "display_data"
    }
   ],
   "source": [
    "# Ready to plot the data - Let's make a barplot\n",
    "df_average_housing_price.sort_values('Average_Housing_Price', axis=0, ascending=False, inplace=True)\n",
    "df_average_housing_price.set_index('Neighbourhood', inplace=True)\n",
    "df_average_housing_price.plot(kind='bar', title='Average Housing Price', figsize=(8,6),alpha=0.75)"
   ]
  },
  {
   "cell_type": "markdown",
   "metadata": {},
   "source": [
    "### School Rates by clusters (k=5)"
   ]
  },
  {
   "cell_type": "code",
   "execution_count": 29,
   "metadata": {},
   "outputs": [
    {
     "data": {
      "text/html": [
       "<div>\n",
       "<style scoped>\n",
       "    .dataframe tbody tr th:only-of-type {\n",
       "        vertical-align: middle;\n",
       "    }\n",
       "\n",
       "    .dataframe tbody tr th {\n",
       "        vertical-align: top;\n",
       "    }\n",
       "\n",
       "    .dataframe thead th {\n",
       "        text-align: right;\n",
       "    }\n",
       "</style>\n",
       "<table border=\"1\" class=\"dataframe\">\n",
       "  <thead>\n",
       "    <tr style=\"text-align: right;\">\n",
       "      <th></th>\n",
       "      <th>k=1</th>\n",
       "      <th>k=2</th>\n",
       "      <th>k=3</th>\n",
       "      <th>k=4</th>\n",
       "      <th>k=5</th>\n",
       "    </tr>\n",
       "  </thead>\n",
       "  <tbody>\n",
       "    <tr>\n",
       "      <td>0</td>\n",
       "      <td>Rouge, Malvern</td>\n",
       "      <td></td>\n",
       "      <td></td>\n",
       "      <td></td>\n",
       "      <td></td>\n",
       "    </tr>\n",
       "    <tr>\n",
       "      <td>1</td>\n",
       "      <td></td>\n",
       "      <td></td>\n",
       "      <td>Highland Creek, Rouge Hill, Port Union</td>\n",
       "      <td></td>\n",
       "      <td></td>\n",
       "    </tr>\n",
       "    <tr>\n",
       "      <td>2</td>\n",
       "      <td>Guildwood, Morningside, West Hill</td>\n",
       "      <td></td>\n",
       "      <td></td>\n",
       "      <td></td>\n",
       "      <td></td>\n",
       "    </tr>\n",
       "    <tr>\n",
       "      <td>3</td>\n",
       "      <td></td>\n",
       "      <td></td>\n",
       "      <td></td>\n",
       "      <td></td>\n",
       "      <td>Woburn</td>\n",
       "    </tr>\n",
       "    <tr>\n",
       "      <td>4</td>\n",
       "      <td>Cedarbrae</td>\n",
       "      <td></td>\n",
       "      <td></td>\n",
       "      <td></td>\n",
       "      <td></td>\n",
       "    </tr>\n",
       "  </tbody>\n",
       "</table>\n",
       "</div>"
      ],
      "text/plain": [
       "                                 k=1 k=2  \\\n",
       "0                     Rouge, Malvern       \n",
       "1                                          \n",
       "2  Guildwood, Morningside, West Hill       \n",
       "3                                          \n",
       "4                          Cedarbrae       \n",
       "\n",
       "                                      k=3 k=4     k=5  \n",
       "0                                                      \n",
       "1  Highland Creek, Rouge Hill, Port Union              \n",
       "2                                                      \n",
       "3                                              Woburn  \n",
       "4                                                      "
      ]
     },
     "execution_count": 29,
     "metadata": {},
     "output_type": "execute_result"
    }
   ],
   "source": [
    "df_clusters = pd.DataFrame({'k=1': df1['Neighbourhood'],\n",
    "                                           'k=2': df2['Neighbourhood'],\n",
    "                                           'k=3': df3['Neighbourhood'],\n",
    "                                           'k=4': df4['Neighbourhood'],\n",
    "                                           'k=5': df5['Neighbourhood']})\n",
    "df_clusters = df_clusters.replace(np.nan, '', regex=True)\n",
    "df_clusters.head()"
   ]
  },
  {
   "cell_type": "code",
   "execution_count": 30,
   "metadata": {},
   "outputs": [
    {
     "data": {
      "text/html": [
       "<div>\n",
       "<style scoped>\n",
       "    .dataframe tbody tr th:only-of-type {\n",
       "        vertical-align: middle;\n",
       "    }\n",
       "\n",
       "    .dataframe tbody tr th {\n",
       "        vertical-align: top;\n",
       "    }\n",
       "\n",
       "    .dataframe thead th {\n",
       "        text-align: right;\n",
       "    }\n",
       "</style>\n",
       "<table border=\"1\" class=\"dataframe\">\n",
       "  <thead>\n",
       "    <tr style=\"text-align: right;\">\n",
       "      <th></th>\n",
       "      <th>Neighbourhood</th>\n",
       "      <th>Top School Rates</th>\n",
       "    </tr>\n",
       "  </thead>\n",
       "  <tbody>\n",
       "    <tr>\n",
       "      <td>0</td>\n",
       "      <td>Rouge, Malvern</td>\n",
       "      <td>7</td>\n",
       "    </tr>\n",
       "    <tr>\n",
       "      <td>1</td>\n",
       "      <td>Highland Creek, Rouge Hill, Port Union</td>\n",
       "      <td>9</td>\n",
       "    </tr>\n",
       "    <tr>\n",
       "      <td>2</td>\n",
       "      <td>Guildwood, Morningside, West Hill</td>\n",
       "      <td>5</td>\n",
       "    </tr>\n",
       "    <tr>\n",
       "      <td>3</td>\n",
       "      <td>Woburn</td>\n",
       "      <td>8</td>\n",
       "    </tr>\n",
       "    <tr>\n",
       "      <td>4</td>\n",
       "      <td>Cedarbrae</td>\n",
       "      <td>10</td>\n",
       "    </tr>\n",
       "  </tbody>\n",
       "</table>\n",
       "</div>"
      ],
      "text/plain": [
       "                            Neighbourhood  Top School Rates\n",
       "0                          Rouge, Malvern                 7\n",
       "1  Highland Creek, Rouge Hill, Port Union                 9\n",
       "2       Guildwood, Morningside, West Hill                 5\n",
       "3                                  Woburn                 8\n",
       "4                               Cedarbrae                10"
      ]
     },
     "execution_count": 30,
     "metadata": {},
     "output_type": "execute_result"
    }
   ],
   "source": [
    "new_scarb_df = scarb_merged.set_index('Neighbourhood', drop=True)\n",
    "\n",
    "school_rates_data = [7,9,5,8,10,10,7,10,1,2,1,2,7,2,3,2,6]\n",
    "df_school_rates = pd.DataFrame({'Neighbourhood': scarb_merged['Neighbourhood'],\n",
    "                                           'Top School Rates': school_rates_data})\n",
    "\n",
    "df_school_rates.head()"
   ]
  },
  {
   "cell_type": "code",
   "execution_count": 31,
   "metadata": {},
   "outputs": [
    {
     "data": {
      "text/plain": [
       "<matplotlib.axes._subplots.AxesSubplot at 0x1539be17a88>"
      ]
     },
     "execution_count": 31,
     "metadata": {},
     "output_type": "execute_result"
    },
    {
     "data": {
      "image/png": "[encoded data removed]",
      "text/plain": [
       "<Figure size 720x504 with 1 Axes>"
      ]
     },
     "metadata": {
      "needs_background": "light"
     },
     "output_type": "display_data"
    }
   ],
   "source": [
    "# Data is ready to make a barplot\n",
    "df_school_rates.sort_values('Top School Rates', ascending=False, inplace=True)\n",
    "df_school_rates.set_index('Neighbourhood', inplace=True, drop=True)\n",
    "df_school_rates.plot(kind='bar', title='Top School Rates', figsize=(10,7), color='orange', alpha=0.7)"
   ]
  },
  {
   "cell_type": "code",
   "execution_count": null,
   "metadata": {},
   "outputs": [],
   "source": []
  }
 ],
 "metadata": {
  "kernelspec": {
   "display_name": "Python 3",
   "language": "python",
   "name": "python3"
  },
  "language_info": {
   "codemirror_mode": {
    "name": "ipython",
    "version": 3
   },
   "file_extension": ".py",
   "mimetype": "text/x-python",
   "name": "python",
   "nbconvert_exporter": "python",
   "pygments_lexer": "ipython3",
   "version": "3.7.4"
  }
 },
 "nbformat": 4,
 "nbformat_minor": 2
}
